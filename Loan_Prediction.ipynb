{
  "nbformat": 4,
  "nbformat_minor": 0,
  "metadata": {
    "kernelspec": {
      "display_name": "Python 3",
      "language": "python",
      "name": "python3"
    },
    "language_info": {
      "codemirror_mode": {
        "name": "ipython",
        "version": 3
      },
      "file_extension": ".py",
      "mimetype": "text/x-python",
      "name": "python",
      "nbconvert_exporter": "python",
      "pygments_lexer": "ipython3",
      "version": "3.7.4"
    },
    "colab": {
      "name": "Loan_Prediction.ipynb",
      "provenance": [],
      "include_colab_link": true
    }
  },
  "cells": [
    {
      "cell_type": "markdown",
      "metadata": {
        "id": "view-in-github",
        "colab_type": "text"
      },
      "source": [
        "<a href=\"https://colab.research.google.com/github/Amangiri99/Loan-Prediction/blob/master/Loan_Prediction.ipynb\" target=\"_parent\"><img src=\"https://colab.research.google.com/assets/colab-badge.svg\" alt=\"Open In Colab\"/></a>"
      ]
    },
    {
      "cell_type": "code",
      "metadata": {
        "id": "CCQXivtutSVo",
        "colab_type": "code",
        "colab": {}
      },
      "source": [
        "import pandas as pd\n",
        "import numpy as np\n",
        "\n",
        "import matplotlib.pyplot as plt\n",
        "from matplotlib import style\n",
        "plt.style.use(['dark_background'])\n",
        "\n",
        "import seaborn as sns\n",
        "sns.set(color_codes = True)"
      ],
      "execution_count": null,
      "outputs": []
    },
    {
      "cell_type": "code",
      "metadata": {
        "id": "0WNQIea2tSV5",
        "colab_type": "code",
        "colab": {}
      },
      "source": [
        "df = pd.read_csv('train.csv')"
      ],
      "execution_count": null,
      "outputs": []
    },
    {
      "cell_type": "code",
      "metadata": {
        "id": "h6beke9htSWG",
        "colab_type": "code",
        "colab": {},
        "outputId": "08c54819-72e3-45df-9585-a2a14adb3b09"
      },
      "source": [
        "df.head()"
      ],
      "execution_count": null,
      "outputs": [
        {
          "output_type": "execute_result",
          "data": {
            "text/html": [
              "<div>\n",
              "<style scoped>\n",
              "    .dataframe tbody tr th:only-of-type {\n",
              "        vertical-align: middle;\n",
              "    }\n",
              "\n",
              "    .dataframe tbody tr th {\n",
              "        vertical-align: top;\n",
              "    }\n",
              "\n",
              "    .dataframe thead th {\n",
              "        text-align: right;\n",
              "    }\n",
              "</style>\n",
              "<table border=\"1\" class=\"dataframe\">\n",
              "  <thead>\n",
              "    <tr style=\"text-align: right;\">\n",
              "      <th></th>\n",
              "      <th>Loan_ID</th>\n",
              "      <th>Gender</th>\n",
              "      <th>Married</th>\n",
              "      <th>Dependents</th>\n",
              "      <th>Education</th>\n",
              "      <th>Self_Employed</th>\n",
              "      <th>ApplicantIncome</th>\n",
              "      <th>CoapplicantIncome</th>\n",
              "      <th>LoanAmount</th>\n",
              "      <th>Loan_Amount_Term</th>\n",
              "      <th>Credit_History</th>\n",
              "      <th>Property_Area</th>\n",
              "      <th>Loan_Status</th>\n",
              "    </tr>\n",
              "  </thead>\n",
              "  <tbody>\n",
              "    <tr>\n",
              "      <td>0</td>\n",
              "      <td>LP001002</td>\n",
              "      <td>Male</td>\n",
              "      <td>No</td>\n",
              "      <td>0</td>\n",
              "      <td>Graduate</td>\n",
              "      <td>No</td>\n",
              "      <td>5849</td>\n",
              "      <td>0.0</td>\n",
              "      <td>NaN</td>\n",
              "      <td>360.0</td>\n",
              "      <td>1.0</td>\n",
              "      <td>Urban</td>\n",
              "      <td>Y</td>\n",
              "    </tr>\n",
              "    <tr>\n",
              "      <td>1</td>\n",
              "      <td>LP001003</td>\n",
              "      <td>Male</td>\n",
              "      <td>Yes</td>\n",
              "      <td>1</td>\n",
              "      <td>Graduate</td>\n",
              "      <td>No</td>\n",
              "      <td>4583</td>\n",
              "      <td>1508.0</td>\n",
              "      <td>128.0</td>\n",
              "      <td>360.0</td>\n",
              "      <td>1.0</td>\n",
              "      <td>Rural</td>\n",
              "      <td>N</td>\n",
              "    </tr>\n",
              "    <tr>\n",
              "      <td>2</td>\n",
              "      <td>LP001005</td>\n",
              "      <td>Male</td>\n",
              "      <td>Yes</td>\n",
              "      <td>0</td>\n",
              "      <td>Graduate</td>\n",
              "      <td>Yes</td>\n",
              "      <td>3000</td>\n",
              "      <td>0.0</td>\n",
              "      <td>66.0</td>\n",
              "      <td>360.0</td>\n",
              "      <td>1.0</td>\n",
              "      <td>Urban</td>\n",
              "      <td>Y</td>\n",
              "    </tr>\n",
              "    <tr>\n",
              "      <td>3</td>\n",
              "      <td>LP001006</td>\n",
              "      <td>Male</td>\n",
              "      <td>Yes</td>\n",
              "      <td>0</td>\n",
              "      <td>Not Graduate</td>\n",
              "      <td>No</td>\n",
              "      <td>2583</td>\n",
              "      <td>2358.0</td>\n",
              "      <td>120.0</td>\n",
              "      <td>360.0</td>\n",
              "      <td>1.0</td>\n",
              "      <td>Urban</td>\n",
              "      <td>Y</td>\n",
              "    </tr>\n",
              "    <tr>\n",
              "      <td>4</td>\n",
              "      <td>LP001008</td>\n",
              "      <td>Male</td>\n",
              "      <td>No</td>\n",
              "      <td>0</td>\n",
              "      <td>Graduate</td>\n",
              "      <td>No</td>\n",
              "      <td>6000</td>\n",
              "      <td>0.0</td>\n",
              "      <td>141.0</td>\n",
              "      <td>360.0</td>\n",
              "      <td>1.0</td>\n",
              "      <td>Urban</td>\n",
              "      <td>Y</td>\n",
              "    </tr>\n",
              "  </tbody>\n",
              "</table>\n",
              "</div>"
            ],
            "text/plain": [
              "    Loan_ID Gender Married Dependents     Education Self_Employed  \\\n",
              "0  LP001002   Male      No          0      Graduate            No   \n",
              "1  LP001003   Male     Yes          1      Graduate            No   \n",
              "2  LP001005   Male     Yes          0      Graduate           Yes   \n",
              "3  LP001006   Male     Yes          0  Not Graduate            No   \n",
              "4  LP001008   Male      No          0      Graduate            No   \n",
              "\n",
              "   ApplicantIncome  CoapplicantIncome  LoanAmount  Loan_Amount_Term  \\\n",
              "0             5849                0.0         NaN             360.0   \n",
              "1             4583             1508.0       128.0             360.0   \n",
              "2             3000                0.0        66.0             360.0   \n",
              "3             2583             2358.0       120.0             360.0   \n",
              "4             6000                0.0       141.0             360.0   \n",
              "\n",
              "   Credit_History Property_Area Loan_Status  \n",
              "0             1.0         Urban           Y  \n",
              "1             1.0         Rural           N  \n",
              "2             1.0         Urban           Y  \n",
              "3             1.0         Urban           Y  \n",
              "4             1.0         Urban           Y  "
            ]
          },
          "metadata": {
            "tags": []
          },
          "execution_count": 239
        }
      ]
    },
    {
      "cell_type": "code",
      "metadata": {
        "id": "B4In2hRYtSWU",
        "colab_type": "code",
        "colab": {},
        "outputId": "cbd0a683-e77f-4aa7-9d47-44434f705205"
      },
      "source": [
        "df.info()"
      ],
      "execution_count": null,
      "outputs": [
        {
          "output_type": "stream",
          "text": [
            "<class 'pandas.core.frame.DataFrame'>\n",
            "RangeIndex: 614 entries, 0 to 613\n",
            "Data columns (total 13 columns):\n",
            "Loan_ID              614 non-null object\n",
            "Gender               601 non-null object\n",
            "Married              611 non-null object\n",
            "Dependents           599 non-null object\n",
            "Education            614 non-null object\n",
            "Self_Employed        582 non-null object\n",
            "ApplicantIncome      614 non-null int64\n",
            "CoapplicantIncome    614 non-null float64\n",
            "LoanAmount           592 non-null float64\n",
            "Loan_Amount_Term     600 non-null float64\n",
            "Credit_History       564 non-null float64\n",
            "Property_Area        614 non-null object\n",
            "Loan_Status          614 non-null object\n",
            "dtypes: float64(4), int64(1), object(8)\n",
            "memory usage: 62.5+ KB\n"
          ],
          "name": "stdout"
        }
      ]
    },
    {
      "cell_type": "markdown",
      "metadata": {
        "id": "GC2shrJ-tSWf",
        "colab_type": "text"
      },
      "source": [
        "# Data Cleaning and EDA"
      ]
    },
    {
      "cell_type": "markdown",
      "metadata": {
        "id": "TzJUYXiltSWj",
        "colab_type": "text"
      },
      "source": [
        "## Working with Gender "
      ]
    },
    {
      "cell_type": "code",
      "metadata": {
        "id": "r2YKVL61tSWn",
        "colab_type": "code",
        "colab": {},
        "outputId": "ca755a9a-be33-4a2a-96f6-eddf933433cc"
      },
      "source": [
        "print(\"Uniques in the data set {} \".format(df['Gender'].unique()))\n",
        "\n",
        "#Filling the missing values in Gender\n",
        "df['Gender'].fillna(method = 'ffill',inplace = True)\n",
        "print(\"After filling the nan values {}\".format(df['Gender'].unique()))\n",
        "\n",
        "\n",
        "#Checking the count of each Loan_Status\n",
        "p = df.groupby('Gender')['Gender'].count()\n",
        "sns.barplot(x = p.index,y = p.values);"
      ],
      "execution_count": null,
      "outputs": [
        {
          "output_type": "stream",
          "text": [
            "Uniques in the data set ['Male' 'Female' nan] \n",
            "After filling the nan values ['Male' 'Female']\n"
          ],
          "name": "stdout"
        },
        {
          "output_type": "display_data",
          "data": {
            "image/png": "[encoded data removed]",
            "text/plain": [
              "<Figure size 432x288 with 1 Axes>"
            ]
          },
          "metadata": {
            "tags": [],
            "needs_background": "light"
          }
        }
      ]
    },
    {
      "cell_type": "markdown",
      "metadata": {
        "id": "vbPa6XdEtSW0",
        "colab_type": "text"
      },
      "source": [
        "Most of the applicants are male as compared to Female"
      ]
    },
    {
      "cell_type": "markdown",
      "metadata": {
        "id": "cDNiAKsntSW2",
        "colab_type": "text"
      },
      "source": [
        "## Working with Married Status"
      ]
    },
    {
      "cell_type": "code",
      "metadata": {
        "id": "BnJYCZDStSW4",
        "colab_type": "code",
        "colab": {},
        "outputId": "7fe81118-8ba7-45fe-9c76-83fb03dffcff"
      },
      "source": [
        "print(\"Uniques in the dataset {}\" .format(df['Married'].unique()))\n",
        "\n",
        "#Filling the missing values in Married\n",
        "df['Married'].fillna(method = 'ffill',inplace = True)\n",
        "print(\"After replacing the nan values {}\".format(df['Married'].unique()))\n",
        "\n",
        "\n",
        "#Checking the count of Marraige Status\n",
        "p = df.groupby('Married')['Married'].count()\n",
        "sns.barplot(x = p.index,y = p.values);\n"
      ],
      "execution_count": null,
      "outputs": [
        {
          "output_type": "stream",
          "text": [
            "Uniques in the dataset ['No' 'Yes' nan]\n",
            "After replacing the nan values ['No' 'Yes']\n"
          ],
          "name": "stdout"
        },
        {
          "output_type": "display_data",
          "data": {
            "image/png": "[encoded data removed]",
            "text/plain": [
              "<Figure size 432x288 with 1 Axes>"
            ]
          },
          "metadata": {
            "tags": [],
            "needs_background": "light"
          }
        }
      ]
    },
    {
      "cell_type": "markdown",
      "metadata": {
        "id": "lTlVlP11tSXF",
        "colab_type": "text"
      },
      "source": [
        "Most of the applicants are Married"
      ]
    },
    {
      "cell_type": "markdown",
      "metadata": {
        "id": "kkqldCB-tSXI",
        "colab_type": "text"
      },
      "source": [
        "## Working with the dependents on the applicant"
      ]
    },
    {
      "cell_type": "code",
      "metadata": {
        "id": "ff8M7yZCtSXK",
        "colab_type": "code",
        "colab": {},
        "outputId": "0e6015dd-5b8e-474f-8406-57b728479fff"
      },
      "source": [
        "print(\"Unique values in dataset for dependents {}\".format(df['Dependents'].unique()))\n",
        "\n",
        "#Filling the missing values in Married\n",
        "df['Dependents'].fillna(method = 'ffill',inplace = True)\n",
        "print(\"After removing nan values {}\".format(train['Dependents'].unique()))\n",
        "\n",
        "p = df.groupby('Dependents')['Dependents'].count()\n",
        "\n",
        "plt.pie(p , labels = p.index , autopct = \"%.2f\" , wedgeprops = dict(width = 0.25))\n",
        "plt.show()"
      ],
      "execution_count": null,
      "outputs": [
        {
          "output_type": "stream",
          "text": [
            "Unique values in dataset for dependents ['0' '1' '2' '3+' nan]\n",
            "After removing nan values ['1' '0' '2' '3+']\n"
          ],
          "name": "stdout"
        },
        {
          "output_type": "display_data",
          "data": {
            "image/png": "[encoded data removed]",
            "text/plain": [
              "<Figure size 432x288 with 1 Axes>"
            ]
          },
          "metadata": {
            "tags": []
          }
        }
      ]
    },
    {
      "cell_type": "markdown",
      "metadata": {
        "id": "Jx2U6SaqtSXe",
        "colab_type": "text"
      },
      "source": [
        "There are 57.6% of applicants who have no  dependents.\n",
        "\n",
        "There are 16.9% of applicants have 1 dependent.\n",
        "\n",
        "There are 17.1% of applicants have 2 dependents.\n",
        "\n",
        "There are 8.3% of applicants have more tha 3+ dependents.\n"
      ]
    },
    {
      "cell_type": "markdown",
      "metadata": {
        "id": "jAKYaHKntSXh",
        "colab_type": "text"
      },
      "source": [
        "## Educational Qualification"
      ]
    },
    {
      "cell_type": "code",
      "metadata": {
        "id": "Ya-csmVMtSXj",
        "colab_type": "code",
        "colab": {},
        "outputId": "2d62a834-2c6d-43b2-8049-aab648573f55"
      },
      "source": [
        "print(\"Uniques in the dataset depending upon education {}\".format(df['Education'].unique()))\n",
        "p = df.groupby('Education')['Education'].count()\n",
        "sns.barplot(x = p.index,y = p.values);"
      ],
      "execution_count": null,
      "outputs": [
        {
          "output_type": "stream",
          "text": [
            "Uniques in the dataset depending upon education ['Graduate' 'Not Graduate']\n"
          ],
          "name": "stdout"
        },
        {
          "output_type": "display_data",
          "data": {
            "image/png": "[encoded data removed]",
            "text/plain": [
              "<Figure size 432x288 with 1 Axes>"
            ]
          },
          "metadata": {
            "tags": [],
            "needs_background": "light"
          }
        }
      ]
    },
    {
      "cell_type": "markdown",
      "metadata": {
        "id": "d0L4R7NvtSXw",
        "colab_type": "text"
      },
      "source": [
        "Most of the applicants are Graduate as compared to others"
      ]
    },
    {
      "cell_type": "markdown",
      "metadata": {
        "id": "kSXQLwi_tSXy",
        "colab_type": "text"
      },
      "source": [
        "## Applicant is Self Employed or not"
      ]
    },
    {
      "cell_type": "code",
      "metadata": {
        "id": "MTXj7rlZtSX0",
        "colab_type": "code",
        "colab": {},
        "outputId": "36d2edb6-276b-4f0a-f8f9-15236e5423f5"
      },
      "source": [
        "print(\"Number of uniques in the dataset depending upon Self_Employed or not {}\".format(df['Self_Employed'].unique()))\n",
        "\n",
        "df['Self_Employed'].fillna(method = 'bfill',inplace = True)\n",
        "print(\"After filling the nan values {}\".format(df['Self_Employed'].unique()))\n",
        "\n",
        "p = df.groupby('Self_Employed')['Self_Employed'].count()\n",
        "sns.barplot(x = p.index,y = p.values);"
      ],
      "execution_count": null,
      "outputs": [
        {
          "output_type": "stream",
          "text": [
            "Number of uniques in the dataset depending upon Self_Employed or not ['No' 'Yes' nan]\n",
            "After filling the nan values ['No' 'Yes']\n"
          ],
          "name": "stdout"
        },
        {
          "output_type": "display_data",
          "data": {
            "image/png": "[encoded data removed]",
            "text/plain": [
              "<Figure size 432x288 with 1 Axes>"
            ]
          },
          "metadata": {
            "tags": [],
            "needs_background": "light"
          }
        }
      ]
    },
    {
      "cell_type": "markdown",
      "metadata": {
        "id": "9ShDyOGatSX_",
        "colab_type": "text"
      },
      "source": [
        "Most of the people are not self employed. Exactly the same happens in real world most of the people are not self employed"
      ]
    },
    {
      "cell_type": "markdown",
      "metadata": {
        "id": "2RKZ1JpqtSYA",
        "colab_type": "text"
      },
      "source": [
        "## Working with Applicants Income"
      ]
    },
    {
      "cell_type": "code",
      "metadata": {
        "id": "UL26eMOjtSYG",
        "colab_type": "code",
        "colab": {},
        "outputId": "bde154ab-916b-44f0-f73e-c3f9525c7a26"
      },
      "source": [
        "sns.distplot(df['ApplicantIncome'],kde = True);"
      ],
      "execution_count": null,
      "outputs": [
        {
          "output_type": "display_data",
          "data": {
            "image/png": "[encoded data removed]",
            "text/plain": [
              "<Figure size 432x288 with 1 Axes>"
            ]
          },
          "metadata": {
            "tags": [],
            "needs_background": "light"
          }
        }
      ]
    },
    {
      "cell_type": "markdown",
      "metadata": {
        "id": "vCo7jGLQtSYS",
        "colab_type": "text"
      },
      "source": [
        "Right-Skewed DataSet"
      ]
    },
    {
      "cell_type": "code",
      "metadata": {
        "id": "EhXluSFVtSYU",
        "colab_type": "code",
        "colab": {},
        "outputId": "a565634a-74aa-4a57-a079-9475183364e4"
      },
      "source": [
        "sns.boxplot(df['ApplicantIncome']);"
      ],
      "execution_count": null,
      "outputs": [
        {
          "output_type": "display_data",
          "data": {
            "image/png": "[encoded data removed]",
            "text/plain": [
              "<Figure size 432x288 with 1 Axes>"
            ]
          },
          "metadata": {
            "tags": [],
            "needs_background": "light"
          }
        }
      ]
    },
    {
      "cell_type": "markdown",
      "metadata": {
        "id": "XuEJhkUftSYf",
        "colab_type": "text"
      },
      "source": [
        "There are a lot of outliers in the data set."
      ]
    },
    {
      "cell_type": "code",
      "metadata": {
        "id": "rSoHMwnwtSYh",
        "colab_type": "code",
        "colab": {},
        "outputId": "81a625a0-b717-4bee-a21c-b98ace5cff43"
      },
      "source": [
        "df['ApplicantIncome'].describe()"
      ],
      "execution_count": null,
      "outputs": [
        {
          "output_type": "execute_result",
          "data": {
            "text/plain": [
              "count      614.000000\n",
              "mean      5403.459283\n",
              "std       6109.041673\n",
              "min        150.000000\n",
              "25%       2877.500000\n",
              "50%       3812.500000\n",
              "75%       5795.000000\n",
              "max      81000.000000\n",
              "Name: ApplicantIncome, dtype: float64"
            ]
          },
          "metadata": {
            "tags": []
          },
          "execution_count": 248
        }
      ]
    },
    {
      "cell_type": "code",
      "metadata": {
        "id": "zwdpv_IFtSYt",
        "colab_type": "code",
        "colab": {},
        "outputId": "548b363f-c388-4d78-dced-7fb7cd9e4990"
      },
      "source": [
        "sns.boxplot(np.log(df['ApplicantIncome']));"
      ],
      "execution_count": null,
      "outputs": [
        {
          "output_type": "display_data",
          "data": {
            "image/png": "[encoded data removed]",
            "text/plain": [
              "<Figure size 432x288 with 1 Axes>"
            ]
          },
          "metadata": {
            "tags": [],
            "needs_background": "light"
          }
        }
      ]
    },
    {
      "cell_type": "markdown",
      "metadata": {
        "id": "f1t0W4W8tSY6",
        "colab_type": "text"
      },
      "source": [
        "Now Dropping the outliers"
      ]
    },
    {
      "cell_type": "code",
      "metadata": {
        "id": "7mja2OWBtSY8",
        "colab_type": "code",
        "colab": {},
        "outputId": "7fdcacce-a11b-40bc-9070-282869423407"
      },
      "source": [
        "print(df['ApplicantIncome'].dtype)"
      ],
      "execution_count": null,
      "outputs": [
        {
          "output_type": "stream",
          "text": [
            "int64\n"
          ],
          "name": "stdout"
        }
      ]
    },
    {
      "cell_type": "code",
      "metadata": {
        "id": "ZbhEvhxWtSZF",
        "colab_type": "code",
        "colab": {},
        "outputId": "5be54b57-f327-4a3b-9e54-052e7ee9cda9"
      },
      "source": [
        "#Removing Outliers Dependin upon quantile\n",
        "max_threshold = df['ApplicantIncome'].quantile(0.85)\n",
        "min_threshold = df['ApplicantIncome'].quantile(0.01)\n",
        "df = df[(df['ApplicantIncome'] < max_threshold) & (df['ApplicantIncome'] > min_threshold)]\n",
        "df.shape"
      ],
      "execution_count": null,
      "outputs": [
        {
          "output_type": "execute_result",
          "data": {
            "text/plain": [
              "(514, 13)"
            ]
          },
          "metadata": {
            "tags": []
          },
          "execution_count": 251
        }
      ]
    },
    {
      "cell_type": "code",
      "metadata": {
        "id": "Kl0q8KTytSZQ",
        "colab_type": "code",
        "colab": {},
        "outputId": "1c6a6267-4c3a-4d09-ad29-a16aeb40efe0"
      },
      "source": [
        "sns.boxplot(df['ApplicantIncome']);"
      ],
      "execution_count": null,
      "outputs": [
        {
          "output_type": "display_data",
          "data": {
            "image/png": "[encoded data removed]",
            "text/plain": [
              "<Figure size 432x288 with 1 Axes>"
            ]
          },
          "metadata": {
            "tags": [],
            "needs_background": "light"
          }
        }
      ]
    },
    {
      "cell_type": "code",
      "metadata": {
        "id": "LggZAeaotSZZ",
        "colab_type": "code",
        "colab": {},
        "outputId": "a29872f2-1a3e-4873-bd72-2533fa71d144"
      },
      "source": [
        "sns.distplot(df['ApplicantIncome'],kde = True);"
      ],
      "execution_count": null,
      "outputs": [
        {
          "output_type": "display_data",
          "data": {
            "image/png": "[encoded data removed]",
            "text/plain": [
              "<Figure size 432x288 with 1 Axes>"
            ]
          },
          "metadata": {
            "tags": [],
            "needs_background": "light"
          }
        }
      ]
    },
    {
      "cell_type": "markdown",
      "metadata": {
        "id": "8UAtpR8GtSZi",
        "colab_type": "text"
      },
      "source": [
        "## Co apllicant income"
      ]
    },
    {
      "cell_type": "code",
      "metadata": {
        "id": "aG78hvljtSZk",
        "colab_type": "code",
        "colab": {},
        "outputId": "f448865d-0da6-4915-e0c9-ff4832ecdd21"
      },
      "source": [
        "df['CoapplicantIncome'].isna().sum()"
      ],
      "execution_count": null,
      "outputs": [
        {
          "output_type": "execute_result",
          "data": {
            "text/plain": [
              "0"
            ]
          },
          "metadata": {
            "tags": []
          },
          "execution_count": 254
        }
      ]
    },
    {
      "cell_type": "code",
      "metadata": {
        "id": "H45bTgNetSZv",
        "colab_type": "code",
        "colab": {},
        "outputId": "1509025b-e7dc-48c7-f102-0e8cb6b0ed2f"
      },
      "source": [
        "df.groupby(train['CoapplicantIncome'])['CoapplicantIncome'].count()[0]"
      ],
      "execution_count": null,
      "outputs": [
        {
          "output_type": "execute_result",
          "data": {
            "text/plain": [
              "152"
            ]
          },
          "metadata": {
            "tags": []
          },
          "execution_count": 255
        }
      ]
    },
    {
      "cell_type": "markdown",
      "metadata": {
        "id": "HVR_eMWEtSZ4",
        "colab_type": "text"
      },
      "source": [
        "In real case also most of the co-applicants are housewives \n",
        "As most of the Co-Applicant Income is 0 so that leads to Outliers in the dataset. "
      ]
    },
    {
      "cell_type": "markdown",
      "metadata": {
        "id": "ZV34J2PYtSZ6",
        "colab_type": "text"
      },
      "source": [
        "## Amount of Loan Required"
      ]
    },
    {
      "cell_type": "code",
      "metadata": {
        "id": "kLWyLrf3tSZ8",
        "colab_type": "code",
        "colab": {},
        "outputId": "a26fb974-60ff-496d-bc50-84074a0d1faa"
      },
      "source": [
        "df['LoanAmount'].isna().sum()"
      ],
      "execution_count": null,
      "outputs": [
        {
          "output_type": "execute_result",
          "data": {
            "text/plain": [
              "19"
            ]
          },
          "metadata": {
            "tags": []
          },
          "execution_count": 256
        }
      ]
    },
    {
      "cell_type": "code",
      "metadata": {
        "id": "ogU5tO7vtSaG",
        "colab_type": "code",
        "colab": {}
      },
      "source": [
        "df = df[df['LoanAmount'] > 0 ]"
      ],
      "execution_count": null,
      "outputs": []
    },
    {
      "cell_type": "code",
      "metadata": {
        "id": "cT_8Z9-XtSaP",
        "colab_type": "code",
        "colab": {},
        "outputId": "77a56b62-af5a-494e-8b05-f6a8d7d9d462"
      },
      "source": [
        "df.head()"
      ],
      "execution_count": null,
      "outputs": [
        {
          "output_type": "execute_result",
          "data": {
            "text/html": [
              "<div>\n",
              "<style scoped>\n",
              "    .dataframe tbody tr th:only-of-type {\n",
              "        vertical-align: middle;\n",
              "    }\n",
              "\n",
              "    .dataframe tbody tr th {\n",
              "        vertical-align: top;\n",
              "    }\n",
              "\n",
              "    .dataframe thead th {\n",
              "        text-align: right;\n",
              "    }\n",
              "</style>\n",
              "<table border=\"1\" class=\"dataframe\">\n",
              "  <thead>\n",
              "    <tr style=\"text-align: right;\">\n",
              "      <th></th>\n",
              "      <th>Loan_ID</th>\n",
              "      <th>Gender</th>\n",
              "      <th>Married</th>\n",
              "      <th>Dependents</th>\n",
              "      <th>Education</th>\n",
              "      <th>Self_Employed</th>\n",
              "      <th>ApplicantIncome</th>\n",
              "      <th>CoapplicantIncome</th>\n",
              "      <th>LoanAmount</th>\n",
              "      <th>Loan_Amount_Term</th>\n",
              "      <th>Credit_History</th>\n",
              "      <th>Property_Area</th>\n",
              "      <th>Loan_Status</th>\n",
              "    </tr>\n",
              "  </thead>\n",
              "  <tbody>\n",
              "    <tr>\n",
              "      <td>1</td>\n",
              "      <td>LP001003</td>\n",
              "      <td>Male</td>\n",
              "      <td>Yes</td>\n",
              "      <td>1</td>\n",
              "      <td>Graduate</td>\n",
              "      <td>No</td>\n",
              "      <td>4583</td>\n",
              "      <td>1508.0</td>\n",
              "      <td>128.0</td>\n",
              "      <td>360.0</td>\n",
              "      <td>1.0</td>\n",
              "      <td>Rural</td>\n",
              "      <td>N</td>\n",
              "    </tr>\n",
              "    <tr>\n",
              "      <td>2</td>\n",
              "      <td>LP001005</td>\n",
              "      <td>Male</td>\n",
              "      <td>Yes</td>\n",
              "      <td>0</td>\n",
              "      <td>Graduate</td>\n",
              "      <td>Yes</td>\n",
              "      <td>3000</td>\n",
              "      <td>0.0</td>\n",
              "      <td>66.0</td>\n",
              "      <td>360.0</td>\n",
              "      <td>1.0</td>\n",
              "      <td>Urban</td>\n",
              "      <td>Y</td>\n",
              "    </tr>\n",
              "    <tr>\n",
              "      <td>3</td>\n",
              "      <td>LP001006</td>\n",
              "      <td>Male</td>\n",
              "      <td>Yes</td>\n",
              "      <td>0</td>\n",
              "      <td>Not Graduate</td>\n",
              "      <td>No</td>\n",
              "      <td>2583</td>\n",
              "      <td>2358.0</td>\n",
              "      <td>120.0</td>\n",
              "      <td>360.0</td>\n",
              "      <td>1.0</td>\n",
              "      <td>Urban</td>\n",
              "      <td>Y</td>\n",
              "    </tr>\n",
              "    <tr>\n",
              "      <td>4</td>\n",
              "      <td>LP001008</td>\n",
              "      <td>Male</td>\n",
              "      <td>No</td>\n",
              "      <td>0</td>\n",
              "      <td>Graduate</td>\n",
              "      <td>No</td>\n",
              "      <td>6000</td>\n",
              "      <td>0.0</td>\n",
              "      <td>141.0</td>\n",
              "      <td>360.0</td>\n",
              "      <td>1.0</td>\n",
              "      <td>Urban</td>\n",
              "      <td>Y</td>\n",
              "    </tr>\n",
              "    <tr>\n",
              "      <td>5</td>\n",
              "      <td>LP001011</td>\n",
              "      <td>Male</td>\n",
              "      <td>Yes</td>\n",
              "      <td>2</td>\n",
              "      <td>Graduate</td>\n",
              "      <td>Yes</td>\n",
              "      <td>5417</td>\n",
              "      <td>4196.0</td>\n",
              "      <td>267.0</td>\n",
              "      <td>360.0</td>\n",
              "      <td>1.0</td>\n",
              "      <td>Urban</td>\n",
              "      <td>Y</td>\n",
              "    </tr>\n",
              "  </tbody>\n",
              "</table>\n",
              "</div>"
            ],
            "text/plain": [
              "    Loan_ID Gender Married Dependents     Education Self_Employed  \\\n",
              "1  LP001003   Male     Yes          1      Graduate            No   \n",
              "2  LP001005   Male     Yes          0      Graduate           Yes   \n",
              "3  LP001006   Male     Yes          0  Not Graduate            No   \n",
              "4  LP001008   Male      No          0      Graduate            No   \n",
              "5  LP001011   Male     Yes          2      Graduate           Yes   \n",
              "\n",
              "   ApplicantIncome  CoapplicantIncome  LoanAmount  Loan_Amount_Term  \\\n",
              "1             4583             1508.0       128.0             360.0   \n",
              "2             3000                0.0        66.0             360.0   \n",
              "3             2583             2358.0       120.0             360.0   \n",
              "4             6000                0.0       141.0             360.0   \n",
              "5             5417             4196.0       267.0             360.0   \n",
              "\n",
              "   Credit_History Property_Area Loan_Status  \n",
              "1             1.0         Rural           N  \n",
              "2             1.0         Urban           Y  \n",
              "3             1.0         Urban           Y  \n",
              "4             1.0         Urban           Y  \n",
              "5             1.0         Urban           Y  "
            ]
          },
          "metadata": {
            "tags": []
          },
          "execution_count": 258
        }
      ]
    },
    {
      "cell_type": "code",
      "metadata": {
        "id": "u-3nfEP6tSaV",
        "colab_type": "code",
        "colab": {},
        "outputId": "71f1b171-c91c-4328-ec74-64feb3722492"
      },
      "source": [
        "sns.kdeplot(df['LoanAmount'],shade = True);"
      ],
      "execution_count": null,
      "outputs": [
        {
          "output_type": "display_data",
          "data": {
            "image/png": "[encoded data removed]",
            "text/plain": [
              "<Figure size 432x288 with 1 Axes>"
            ]
          },
          "metadata": {
            "tags": [],
            "needs_background": "light"
          }
        }
      ]
    },
    {
      "cell_type": "markdown",
      "metadata": {
        "id": "4Ip9XMlptSaa",
        "colab_type": "text"
      },
      "source": [
        "## Loan tenure "
      ]
    },
    {
      "cell_type": "code",
      "metadata": {
        "id": "tA1Bu1N1tSab",
        "colab_type": "code",
        "colab": {},
        "outputId": "932afebd-a8c5-4aed-9414-774e371254ee"
      },
      "source": [
        "print(\"Number of uniques in the data {}\".format(df['Loan_Amount_Term'].unique()))\n",
        "\n",
        "df['Loan_Amount_Term'].fillna(value = df['Loan_Amount_Term'].median(),inplace = True)\n",
        "print(\"After removing nan values {}\".format(df['Loan_Amount_Term'].unique()))\n",
        "\n",
        "#Converting Loan_AMOUNT_Term from months to years\n",
        "df['Loan_Amount_Term'] = df['Loan_Amount_Term']//12 \n",
        "\n",
        "\n",
        "p = df.groupby('Loan_Amount_Term')['Loan_Amount_Term'].count()\n",
        "sns.barplot(x= p.index , y = p.values);\n",
        "print(p)"
      ],
      "execution_count": null,
      "outputs": [
        {
          "output_type": "stream",
          "text": [
            "Number of uniques in the data [360. 120. 240.  nan 180.  60. 300. 480.  36.  84.  12.]\n",
            "After removing nan values [360. 120. 240. 180.  60. 300. 480.  36.  84.  12.]\n",
            "Loan_Amount_Term\n",
            "1.0       1\n",
            "3.0       2\n",
            "5.0       2\n",
            "7.0       4\n",
            "10.0      3\n",
            "15.0     32\n",
            "20.0      3\n",
            "25.0     10\n",
            "30.0    425\n",
            "40.0     13\n",
            "Name: Loan_Amount_Term, dtype: int64\n"
          ],
          "name": "stdout"
        },
        {
          "output_type": "display_data",
          "data": {
            "image/png": "[encoded data removed]",
            "text/plain": [
              "<Figure size 432x288 with 1 Axes>"
            ]
          },
          "metadata": {
            "tags": [],
            "needs_background": "light"
          }
        }
      ]
    },
    {
      "cell_type": "markdown",
      "metadata": {
        "id": "V2cZkUyItSag",
        "colab_type": "text"
      },
      "source": [
        "Most of the people like to take loan with large tenure."
      ]
    },
    {
      "cell_type": "markdown",
      "metadata": {
        "id": "fkJExsU9tSah",
        "colab_type": "text"
      },
      "source": [
        "## Credit History Of Applicant"
      ]
    },
    {
      "cell_type": "code",
      "metadata": {
        "id": "4p_-fP1btSah",
        "colab_type": "code",
        "colab": {},
        "outputId": "be688c5c-f602-48e2-e111-3451fd7e6ff6"
      },
      "source": [
        "df['Credit_History'].unique()\n",
        "\n",
        "\n",
        "df['Credit_History'].fillna(method = 'ffill',inplace = True)\n",
        "df['Credit_History'].unique()\n",
        "\n",
        "\n",
        "p = df.groupby('Credit_History')['Credit_History'].count()\n",
        "sns.barplot(x= p.index , y = p.values);\n",
        "print(p)"
      ],
      "execution_count": null,
      "outputs": [
        {
          "output_type": "stream",
          "text": [
            "Credit_History\n",
            "0.0     81\n",
            "1.0    414\n",
            "Name: Credit_History, dtype: int64\n"
          ],
          "name": "stdout"
        },
        {
          "output_type": "display_data",
          "data": {
            "image/png": "[encoded data removed]",
            "text/plain": [
              "<Figure size 432x288 with 1 Axes>"
            ]
          },
          "metadata": {
            "tags": [],
            "needs_background": "light"
          }
        }
      ]
    },
    {
      "cell_type": "markdown",
      "metadata": {
        "id": "qgUZ0rhJtSal",
        "colab_type": "text"
      },
      "source": [
        "A lot of people have a Good Credit History"
      ]
    },
    {
      "cell_type": "markdown",
      "metadata": {
        "id": "SkVQ-S9wtSal",
        "colab_type": "text"
      },
      "source": [
        "## The Type of area for which the loan has been taken "
      ]
    },
    {
      "cell_type": "code",
      "metadata": {
        "id": "8R-UkCHgtSam",
        "colab_type": "code",
        "colab": {},
        "outputId": "468517e7-fb72-4fb1-c22c-8b83698e8fcb"
      },
      "source": [
        "df['Property_Area'].unique()\n",
        "\n",
        "\n",
        "p = df.groupby('Property_Area')['Property_Area'].count()\n",
        "sns.barplot(x= p.index , y = p.values);"
      ],
      "execution_count": null,
      "outputs": [
        {
          "output_type": "display_data",
          "data": {
            "image/png": "[encoded data removed]",
            "text/plain": [
              "<Figure size 432x288 with 1 Axes>"
            ]
          },
          "metadata": {
            "tags": [],
            "needs_background": "light"
          }
        }
      ]
    },
    {
      "cell_type": "code",
      "metadata": {
        "id": "gJ3YBKVWtSaq",
        "colab_type": "code",
        "colab": {},
        "outputId": "cb9886f5-525a-4603-baa0-96f4595ff5f7"
      },
      "source": [
        "df.info()"
      ],
      "execution_count": null,
      "outputs": [
        {
          "output_type": "stream",
          "text": [
            "<class 'pandas.core.frame.DataFrame'>\n",
            "Int64Index: 495 entries, 1 to 613\n",
            "Data columns (total 13 columns):\n",
            "Loan_ID              495 non-null object\n",
            "Gender               495 non-null object\n",
            "Married              495 non-null object\n",
            "Dependents           495 non-null object\n",
            "Education            495 non-null object\n",
            "Self_Employed        495 non-null object\n",
            "ApplicantIncome      495 non-null int64\n",
            "CoapplicantIncome    495 non-null float64\n",
            "LoanAmount           495 non-null float64\n",
            "Loan_Amount_Term     495 non-null float64\n",
            "Credit_History       495 non-null float64\n",
            "Property_Area        495 non-null object\n",
            "Loan_Status          495 non-null object\n",
            "dtypes: float64(4), int64(1), object(8)\n",
            "memory usage: 54.1+ KB\n"
          ],
          "name": "stdout"
        }
      ]
    },
    {
      "cell_type": "markdown",
      "metadata": {
        "id": "h7z9_SlitSau",
        "colab_type": "text"
      },
      "source": [
        "## Loan Status of applicants"
      ]
    },
    {
      "cell_type": "code",
      "metadata": {
        "id": "jIBwYrJitSav",
        "colab_type": "code",
        "colab": {},
        "outputId": "043ef43a-ae3b-4601-e2b1-65c8b6e3fc35"
      },
      "source": [
        "print(\"Unique values in the column for Loan_Status {}\".format(df['Loan_Status'].unique()))\n",
        "\n",
        "p = df.groupby('Loan_Status')['Loan_Status'].count()\n",
        "sns.barplot(x = p.index , y = p.values);\n",
        "\n",
        "p_total = sum(p.values)\n",
        "for value in p.values:\n",
        "    print(value * 100 / p_total)"
      ],
      "execution_count": null,
      "outputs": [
        {
          "output_type": "stream",
          "text": [
            "Unique values in the column for Loan_Status ['N' 'Y']\n",
            "30.505050505050505\n",
            "69.4949494949495\n"
          ],
          "name": "stdout"
        },
        {
          "output_type": "display_data",
          "data": {
            "image/png": "[encoded data removed]",
            "text/plain": [
              "<Figure size 432x288 with 1 Axes>"
            ]
          },
          "metadata": {
            "tags": [],
            "needs_background": "light"
          }
        }
      ]
    },
    {
      "cell_type": "markdown",
      "metadata": {
        "id": "trTSlTEStSay",
        "colab_type": "text"
      },
      "source": [
        "There is roughly 70:30 ratio of getting the loan approved. "
      ]
    },
    {
      "cell_type": "markdown",
      "metadata": {
        "id": "JD0K68PBtSaz",
        "colab_type": "text"
      },
      "source": [
        "## Income of Male as compared to Female"
      ]
    },
    {
      "cell_type": "code",
      "metadata": {
        "id": "IfQy6N07tSaz",
        "colab_type": "code",
        "colab": {},
        "outputId": "9b497861-c43f-4588-ff32-d54104217d06"
      },
      "source": [
        "df.groupby('Gender')['ApplicantIncome'].median()"
      ],
      "execution_count": null,
      "outputs": [
        {
          "output_type": "execute_result",
          "data": {
            "text/plain": [
              "Gender\n",
              "Female    3422.5\n",
              "Male      3547.0\n",
              "Name: ApplicantIncome, dtype: float64"
            ]
          },
          "metadata": {
            "tags": []
          },
          "execution_count": 266
        }
      ]
    },
    {
      "cell_type": "code",
      "metadata": {
        "id": "66BkEoaZtSa2",
        "colab_type": "code",
        "colab": {},
        "outputId": "533e0fc3-130e-4c81-b710-61b7daa83145"
      },
      "source": [
        "df.groupby('Gender')['ApplicantIncome'].mean()"
      ],
      "execution_count": null,
      "outputs": [
        {
          "output_type": "execute_result",
          "data": {
            "text/plain": [
              "Gender\n",
              "Female    3559.106383\n",
              "Male      3844.381546\n",
              "Name: ApplicantIncome, dtype: float64"
            ]
          },
          "metadata": {
            "tags": []
          },
          "execution_count": 267
        }
      ]
    },
    {
      "cell_type": "markdown",
      "metadata": {
        "id": "x-XR3Z2ItSa5",
        "colab_type": "text"
      },
      "source": [
        "Male Applicants have an higher income as compared to female apllicants"
      ]
    },
    {
      "cell_type": "markdown",
      "metadata": {
        "id": "ESo-uv7ctSa6",
        "colab_type": "text"
      },
      "source": [
        "## Depending upon gender who has higher ratio of getting loan"
      ]
    },
    {
      "cell_type": "code",
      "metadata": {
        "id": "xBLaVOvFtSa6",
        "colab_type": "code",
        "colab": {},
        "outputId": "e3024b32-064b-4f1f-c42e-8ce8ed5195b1"
      },
      "source": [
        "df.groupby(['Gender', 'Loan_Status'])['Loan_Status'].count()"
      ],
      "execution_count": null,
      "outputs": [
        {
          "output_type": "execute_result",
          "data": {
            "text/plain": [
              "Gender  Loan_Status\n",
              "Female  N               32\n",
              "        Y               62\n",
              "Male    N              119\n",
              "        Y              282\n",
              "Name: Loan_Status, dtype: int64"
            ]
          },
          "metadata": {
            "tags": []
          },
          "execution_count": 268
        }
      ]
    },
    {
      "cell_type": "markdown",
      "metadata": {
        "id": "BIpVaA6jtSa-",
        "colab_type": "text"
      },
      "source": [
        "We can clearly see Male ratio of getting loan approved is approx 1.75:1\n",
        "\n",
        "where as female ratio of getting loan approved if approx 2.25:1"
      ]
    },
    {
      "cell_type": "markdown",
      "metadata": {
        "id": "cL-LJ6fctSa-",
        "colab_type": "text"
      },
      "source": [
        "## Credit history depending upon gender"
      ]
    },
    {
      "cell_type": "code",
      "metadata": {
        "id": "TcpTMQvAtSa_",
        "colab_type": "code",
        "colab": {},
        "outputId": "0f5e1442-997d-4e06-ee97-168523ff72c4"
      },
      "source": [
        "df.groupby(['Gender', 'Credit_History'])['Credit_History'].count()"
      ],
      "execution_count": null,
      "outputs": [
        {
          "output_type": "execute_result",
          "data": {
            "text/plain": [
              "Gender  Credit_History\n",
              "Female  0.0                16\n",
              "        1.0                78\n",
              "Male    0.0                65\n",
              "        1.0               336\n",
              "Name: Credit_History, dtype: int64"
            ]
          },
          "metadata": {
            "tags": []
          },
          "execution_count": 269
        }
      ]
    },
    {
      "cell_type": "markdown",
      "metadata": {
        "id": "6pswxKbttSbB",
        "colab_type": "text"
      },
      "source": [
        "Both of them seems to have equal credit history"
      ]
    },
    {
      "cell_type": "code",
      "metadata": {
        "id": "FsJYaVDxtSbC",
        "colab_type": "code",
        "colab": {},
        "outputId": "bc9a3ca4-a257-4ae4-d876-f1e7f3a372ed"
      },
      "source": [
        "df.head()"
      ],
      "execution_count": null,
      "outputs": [
        {
          "output_type": "execute_result",
          "data": {
            "text/html": [
              "<div>\n",
              "<style scoped>\n",
              "    .dataframe tbody tr th:only-of-type {\n",
              "        vertical-align: middle;\n",
              "    }\n",
              "\n",
              "    .dataframe tbody tr th {\n",
              "        vertical-align: top;\n",
              "    }\n",
              "\n",
              "    .dataframe thead th {\n",
              "        text-align: right;\n",
              "    }\n",
              "</style>\n",
              "<table border=\"1\" class=\"dataframe\">\n",
              "  <thead>\n",
              "    <tr style=\"text-align: right;\">\n",
              "      <th></th>\n",
              "      <th>Loan_ID</th>\n",
              "      <th>Gender</th>\n",
              "      <th>Married</th>\n",
              "      <th>Dependents</th>\n",
              "      <th>Education</th>\n",
              "      <th>Self_Employed</th>\n",
              "      <th>ApplicantIncome</th>\n",
              "      <th>CoapplicantIncome</th>\n",
              "      <th>LoanAmount</th>\n",
              "      <th>Loan_Amount_Term</th>\n",
              "      <th>Credit_History</th>\n",
              "      <th>Property_Area</th>\n",
              "      <th>Loan_Status</th>\n",
              "    </tr>\n",
              "  </thead>\n",
              "  <tbody>\n",
              "    <tr>\n",
              "      <td>1</td>\n",
              "      <td>LP001003</td>\n",
              "      <td>Male</td>\n",
              "      <td>Yes</td>\n",
              "      <td>1</td>\n",
              "      <td>Graduate</td>\n",
              "      <td>No</td>\n",
              "      <td>4583</td>\n",
              "      <td>1508.0</td>\n",
              "      <td>128.0</td>\n",
              "      <td>30.0</td>\n",
              "      <td>1.0</td>\n",
              "      <td>Rural</td>\n",
              "      <td>N</td>\n",
              "    </tr>\n",
              "    <tr>\n",
              "      <td>2</td>\n",
              "      <td>LP001005</td>\n",
              "      <td>Male</td>\n",
              "      <td>Yes</td>\n",
              "      <td>0</td>\n",
              "      <td>Graduate</td>\n",
              "      <td>Yes</td>\n",
              "      <td>3000</td>\n",
              "      <td>0.0</td>\n",
              "      <td>66.0</td>\n",
              "      <td>30.0</td>\n",
              "      <td>1.0</td>\n",
              "      <td>Urban</td>\n",
              "      <td>Y</td>\n",
              "    </tr>\n",
              "    <tr>\n",
              "      <td>3</td>\n",
              "      <td>LP001006</td>\n",
              "      <td>Male</td>\n",
              "      <td>Yes</td>\n",
              "      <td>0</td>\n",
              "      <td>Not Graduate</td>\n",
              "      <td>No</td>\n",
              "      <td>2583</td>\n",
              "      <td>2358.0</td>\n",
              "      <td>120.0</td>\n",
              "      <td>30.0</td>\n",
              "      <td>1.0</td>\n",
              "      <td>Urban</td>\n",
              "      <td>Y</td>\n",
              "    </tr>\n",
              "    <tr>\n",
              "      <td>4</td>\n",
              "      <td>LP001008</td>\n",
              "      <td>Male</td>\n",
              "      <td>No</td>\n",
              "      <td>0</td>\n",
              "      <td>Graduate</td>\n",
              "      <td>No</td>\n",
              "      <td>6000</td>\n",
              "      <td>0.0</td>\n",
              "      <td>141.0</td>\n",
              "      <td>30.0</td>\n",
              "      <td>1.0</td>\n",
              "      <td>Urban</td>\n",
              "      <td>Y</td>\n",
              "    </tr>\n",
              "    <tr>\n",
              "      <td>5</td>\n",
              "      <td>LP001011</td>\n",
              "      <td>Male</td>\n",
              "      <td>Yes</td>\n",
              "      <td>2</td>\n",
              "      <td>Graduate</td>\n",
              "      <td>Yes</td>\n",
              "      <td>5417</td>\n",
              "      <td>4196.0</td>\n",
              "      <td>267.0</td>\n",
              "      <td>30.0</td>\n",
              "      <td>1.0</td>\n",
              "      <td>Urban</td>\n",
              "      <td>Y</td>\n",
              "    </tr>\n",
              "  </tbody>\n",
              "</table>\n",
              "</div>"
            ],
            "text/plain": [
              "    Loan_ID Gender Married Dependents     Education Self_Employed  \\\n",
              "1  LP001003   Male     Yes          1      Graduate            No   \n",
              "2  LP001005   Male     Yes          0      Graduate           Yes   \n",
              "3  LP001006   Male     Yes          0  Not Graduate            No   \n",
              "4  LP001008   Male      No          0      Graduate            No   \n",
              "5  LP001011   Male     Yes          2      Graduate           Yes   \n",
              "\n",
              "   ApplicantIncome  CoapplicantIncome  LoanAmount  Loan_Amount_Term  \\\n",
              "1             4583             1508.0       128.0              30.0   \n",
              "2             3000                0.0        66.0              30.0   \n",
              "3             2583             2358.0       120.0              30.0   \n",
              "4             6000                0.0       141.0              30.0   \n",
              "5             5417             4196.0       267.0              30.0   \n",
              "\n",
              "   Credit_History Property_Area Loan_Status  \n",
              "1             1.0         Rural           N  \n",
              "2             1.0         Urban           Y  \n",
              "3             1.0         Urban           Y  \n",
              "4             1.0         Urban           Y  \n",
              "5             1.0         Urban           Y  "
            ]
          },
          "metadata": {
            "tags": []
          },
          "execution_count": 270
        }
      ]
    },
    {
      "cell_type": "code",
      "metadata": {
        "id": "5NXXBNfMtSbF",
        "colab_type": "code",
        "colab": {}
      },
      "source": [
        "df.Loan_Status.replace({'Y': 0, 'N': 1}, inplace= True)\n",
        "df.Education.replace({'Graduate': 0, 'Not Graduate': 1}, inplace= True)\n",
        "df.Self_Employed.replace({'Yes': 0, 'No': 1}, inplace= True)\n",
        "df.Gender.replace({'Male': 0, 'Female': 1}, inplace= True)\n",
        "df.Married.replace({'Yes': 0, 'No': 1}, inplace= True)"
      ],
      "execution_count": null,
      "outputs": []
    },
    {
      "cell_type": "code",
      "metadata": {
        "id": "p9gUZKoLtSbN",
        "colab_type": "code",
        "colab": {},
        "outputId": "05fead77-4a72-4a7b-82fd-eb145402d2a4"
      },
      "source": [
        "df.head()"
      ],
      "execution_count": null,
      "outputs": [
        {
          "output_type": "execute_result",
          "data": {
            "text/html": [
              "<div>\n",
              "<style scoped>\n",
              "    .dataframe tbody tr th:only-of-type {\n",
              "        vertical-align: middle;\n",
              "    }\n",
              "\n",
              "    .dataframe tbody tr th {\n",
              "        vertical-align: top;\n",
              "    }\n",
              "\n",
              "    .dataframe thead th {\n",
              "        text-align: right;\n",
              "    }\n",
              "</style>\n",
              "<table border=\"1\" class=\"dataframe\">\n",
              "  <thead>\n",
              "    <tr style=\"text-align: right;\">\n",
              "      <th></th>\n",
              "      <th>Loan_ID</th>\n",
              "      <th>Gender</th>\n",
              "      <th>Married</th>\n",
              "      <th>Dependents</th>\n",
              "      <th>Education</th>\n",
              "      <th>Self_Employed</th>\n",
              "      <th>ApplicantIncome</th>\n",
              "      <th>CoapplicantIncome</th>\n",
              "      <th>LoanAmount</th>\n",
              "      <th>Loan_Amount_Term</th>\n",
              "      <th>Credit_History</th>\n",
              "      <th>Property_Area</th>\n",
              "      <th>Loan_Status</th>\n",
              "    </tr>\n",
              "  </thead>\n",
              "  <tbody>\n",
              "    <tr>\n",
              "      <td>1</td>\n",
              "      <td>LP001003</td>\n",
              "      <td>0</td>\n",
              "      <td>0</td>\n",
              "      <td>1</td>\n",
              "      <td>0</td>\n",
              "      <td>1</td>\n",
              "      <td>4583</td>\n",
              "      <td>1508.0</td>\n",
              "      <td>128.0</td>\n",
              "      <td>30.0</td>\n",
              "      <td>1.0</td>\n",
              "      <td>Rural</td>\n",
              "      <td>1</td>\n",
              "    </tr>\n",
              "    <tr>\n",
              "      <td>2</td>\n",
              "      <td>LP001005</td>\n",
              "      <td>0</td>\n",
              "      <td>0</td>\n",
              "      <td>0</td>\n",
              "      <td>0</td>\n",
              "      <td>0</td>\n",
              "      <td>3000</td>\n",
              "      <td>0.0</td>\n",
              "      <td>66.0</td>\n",
              "      <td>30.0</td>\n",
              "      <td>1.0</td>\n",
              "      <td>Urban</td>\n",
              "      <td>0</td>\n",
              "    </tr>\n",
              "    <tr>\n",
              "      <td>3</td>\n",
              "      <td>LP001006</td>\n",
              "      <td>0</td>\n",
              "      <td>0</td>\n",
              "      <td>0</td>\n",
              "      <td>1</td>\n",
              "      <td>1</td>\n",
              "      <td>2583</td>\n",
              "      <td>2358.0</td>\n",
              "      <td>120.0</td>\n",
              "      <td>30.0</td>\n",
              "      <td>1.0</td>\n",
              "      <td>Urban</td>\n",
              "      <td>0</td>\n",
              "    </tr>\n",
              "    <tr>\n",
              "      <td>4</td>\n",
              "      <td>LP001008</td>\n",
              "      <td>0</td>\n",
              "      <td>1</td>\n",
              "      <td>0</td>\n",
              "      <td>0</td>\n",
              "      <td>1</td>\n",
              "      <td>6000</td>\n",
              "      <td>0.0</td>\n",
              "      <td>141.0</td>\n",
              "      <td>30.0</td>\n",
              "      <td>1.0</td>\n",
              "      <td>Urban</td>\n",
              "      <td>0</td>\n",
              "    </tr>\n",
              "    <tr>\n",
              "      <td>5</td>\n",
              "      <td>LP001011</td>\n",
              "      <td>0</td>\n",
              "      <td>0</td>\n",
              "      <td>2</td>\n",
              "      <td>0</td>\n",
              "      <td>0</td>\n",
              "      <td>5417</td>\n",
              "      <td>4196.0</td>\n",
              "      <td>267.0</td>\n",
              "      <td>30.0</td>\n",
              "      <td>1.0</td>\n",
              "      <td>Urban</td>\n",
              "      <td>0</td>\n",
              "    </tr>\n",
              "  </tbody>\n",
              "</table>\n",
              "</div>"
            ],
            "text/plain": [
              "    Loan_ID  Gender  Married Dependents  Education  Self_Employed  \\\n",
              "1  LP001003       0        0          1          0              1   \n",
              "2  LP001005       0        0          0          0              0   \n",
              "3  LP001006       0        0          0          1              1   \n",
              "4  LP001008       0        1          0          0              1   \n",
              "5  LP001011       0        0          2          0              0   \n",
              "\n",
              "   ApplicantIncome  CoapplicantIncome  LoanAmount  Loan_Amount_Term  \\\n",
              "1             4583             1508.0       128.0              30.0   \n",
              "2             3000                0.0        66.0              30.0   \n",
              "3             2583             2358.0       120.0              30.0   \n",
              "4             6000                0.0       141.0              30.0   \n",
              "5             5417             4196.0       267.0              30.0   \n",
              "\n",
              "   Credit_History Property_Area  Loan_Status  \n",
              "1             1.0         Rural            1  \n",
              "2             1.0         Urban            0  \n",
              "3             1.0         Urban            0  \n",
              "4             1.0         Urban            0  \n",
              "5             1.0         Urban            0  "
            ]
          },
          "metadata": {
            "tags": []
          },
          "execution_count": 272
        }
      ]
    },
    {
      "cell_type": "code",
      "metadata": {
        "id": "gigtisrctSbT",
        "colab_type": "code",
        "colab": {}
      },
      "source": [
        "df.drop('Loan_ID',axis = 1,inplace = True)"
      ],
      "execution_count": null,
      "outputs": []
    },
    {
      "cell_type": "code",
      "metadata": {
        "id": "9f6Tu-yLtSbZ",
        "colab_type": "code",
        "colab": {},
        "outputId": "58241e9a-58a7-418b-b555-d2cb71004b75"
      },
      "source": [
        "df.info()"
      ],
      "execution_count": null,
      "outputs": [
        {
          "output_type": "stream",
          "text": [
            "<class 'pandas.core.frame.DataFrame'>\n",
            "Int64Index: 495 entries, 1 to 613\n",
            "Data columns (total 12 columns):\n",
            "Gender               495 non-null int64\n",
            "Married              495 non-null int64\n",
            "Dependents           495 non-null object\n",
            "Education            495 non-null int64\n",
            "Self_Employed        495 non-null int64\n",
            "ApplicantIncome      495 non-null int64\n",
            "CoapplicantIncome    495 non-null float64\n",
            "LoanAmount           495 non-null float64\n",
            "Loan_Amount_Term     495 non-null float64\n",
            "Credit_History       495 non-null float64\n",
            "Property_Area        495 non-null object\n",
            "Loan_Status          495 non-null int64\n",
            "dtypes: float64(4), int64(6), object(2)\n",
            "memory usage: 50.3+ KB\n"
          ],
          "name": "stdout"
        }
      ]
    },
    {
      "cell_type": "code",
      "metadata": {
        "id": "oJssi1WLtSbf",
        "colab_type": "code",
        "colab": {}
      },
      "source": [
        "dep = pd.get_dummies(df['Dependents'])\n",
        "lat = pd.get_dummies(df['Loan_Amount_Term'])\n",
        "pa = pd.get_dummies(df['Property_Area'])"
      ],
      "execution_count": null,
      "outputs": []
    },
    {
      "cell_type": "code",
      "metadata": {
        "id": "ayqlchCVtSbi",
        "colab_type": "code",
        "colab": {}
      },
      "source": [
        "df = pd.concat([df ,dep ,lat ,pa],axis = 1)"
      ],
      "execution_count": null,
      "outputs": []
    },
    {
      "cell_type": "code",
      "metadata": {
        "id": "01wzc2ShtSbm",
        "colab_type": "code",
        "colab": {}
      },
      "source": [
        "df = df.drop(['Dependents' ,'Loan_Amount_Term','Property_Area'],axis = 1)"
      ],
      "execution_count": null,
      "outputs": []
    },
    {
      "cell_type": "code",
      "metadata": {
        "id": "1l8LZlLmtSbs",
        "colab_type": "code",
        "colab": {},
        "outputId": "50572c3d-faa6-4797-fbc6-de2947bc02a0"
      },
      "source": [
        "df.head()"
      ],
      "execution_count": null,
      "outputs": [
        {
          "output_type": "execute_result",
          "data": {
            "text/html": [
              "<div>\n",
              "<style scoped>\n",
              "    .dataframe tbody tr th:only-of-type {\n",
              "        vertical-align: middle;\n",
              "    }\n",
              "\n",
              "    .dataframe tbody tr th {\n",
              "        vertical-align: top;\n",
              "    }\n",
              "\n",
              "    .dataframe thead th {\n",
              "        text-align: right;\n",
              "    }\n",
              "</style>\n",
              "<table border=\"1\" class=\"dataframe\">\n",
              "  <thead>\n",
              "    <tr style=\"text-align: right;\">\n",
              "      <th></th>\n",
              "      <th>Gender</th>\n",
              "      <th>Married</th>\n",
              "      <th>Education</th>\n",
              "      <th>Self_Employed</th>\n",
              "      <th>ApplicantIncome</th>\n",
              "      <th>CoapplicantIncome</th>\n",
              "      <th>LoanAmount</th>\n",
              "      <th>Credit_History</th>\n",
              "      <th>Loan_Status</th>\n",
              "      <th>0</th>\n",
              "      <th>...</th>\n",
              "      <th>7.0</th>\n",
              "      <th>10.0</th>\n",
              "      <th>15.0</th>\n",
              "      <th>20.0</th>\n",
              "      <th>25.0</th>\n",
              "      <th>30.0</th>\n",
              "      <th>40.0</th>\n",
              "      <th>Rural</th>\n",
              "      <th>Semiurban</th>\n",
              "      <th>Urban</th>\n",
              "    </tr>\n",
              "  </thead>\n",
              "  <tbody>\n",
              "    <tr>\n",
              "      <td>1</td>\n",
              "      <td>0</td>\n",
              "      <td>0</td>\n",
              "      <td>0</td>\n",
              "      <td>1</td>\n",
              "      <td>4583</td>\n",
              "      <td>1508.0</td>\n",
              "      <td>128.0</td>\n",
              "      <td>1.0</td>\n",
              "      <td>1</td>\n",
              "      <td>0</td>\n",
              "      <td>...</td>\n",
              "      <td>0</td>\n",
              "      <td>0</td>\n",
              "      <td>0</td>\n",
              "      <td>0</td>\n",
              "      <td>0</td>\n",
              "      <td>1</td>\n",
              "      <td>0</td>\n",
              "      <td>1</td>\n",
              "      <td>0</td>\n",
              "      <td>0</td>\n",
              "    </tr>\n",
              "    <tr>\n",
              "      <td>2</td>\n",
              "      <td>0</td>\n",
              "      <td>0</td>\n",
              "      <td>0</td>\n",
              "      <td>0</td>\n",
              "      <td>3000</td>\n",
              "      <td>0.0</td>\n",
              "      <td>66.0</td>\n",
              "      <td>1.0</td>\n",
              "      <td>0</td>\n",
              "      <td>1</td>\n",
              "      <td>...</td>\n",
              "      <td>0</td>\n",
              "      <td>0</td>\n",
              "      <td>0</td>\n",
              "      <td>0</td>\n",
              "      <td>0</td>\n",
              "      <td>1</td>\n",
              "      <td>0</td>\n",
              "      <td>0</td>\n",
              "      <td>0</td>\n",
              "      <td>1</td>\n",
              "    </tr>\n",
              "    <tr>\n",
              "      <td>3</td>\n",
              "      <td>0</td>\n",
              "      <td>0</td>\n",
              "      <td>1</td>\n",
              "      <td>1</td>\n",
              "      <td>2583</td>\n",
              "      <td>2358.0</td>\n",
              "      <td>120.0</td>\n",
              "      <td>1.0</td>\n",
              "      <td>0</td>\n",
              "      <td>1</td>\n",
              "      <td>...</td>\n",
              "      <td>0</td>\n",
              "      <td>0</td>\n",
              "      <td>0</td>\n",
              "      <td>0</td>\n",
              "      <td>0</td>\n",
              "      <td>1</td>\n",
              "      <td>0</td>\n",
              "      <td>0</td>\n",
              "      <td>0</td>\n",
              "      <td>1</td>\n",
              "    </tr>\n",
              "    <tr>\n",
              "      <td>4</td>\n",
              "      <td>0</td>\n",
              "      <td>1</td>\n",
              "      <td>0</td>\n",
              "      <td>1</td>\n",
              "      <td>6000</td>\n",
              "      <td>0.0</td>\n",
              "      <td>141.0</td>\n",
              "      <td>1.0</td>\n",
              "      <td>0</td>\n",
              "      <td>1</td>\n",
              "      <td>...</td>\n",
              "      <td>0</td>\n",
              "      <td>0</td>\n",
              "      <td>0</td>\n",
              "      <td>0</td>\n",
              "      <td>0</td>\n",
              "      <td>1</td>\n",
              "      <td>0</td>\n",
              "      <td>0</td>\n",
              "      <td>0</td>\n",
              "      <td>1</td>\n",
              "    </tr>\n",
              "    <tr>\n",
              "      <td>5</td>\n",
              "      <td>0</td>\n",
              "      <td>0</td>\n",
              "      <td>0</td>\n",
              "      <td>0</td>\n",
              "      <td>5417</td>\n",
              "      <td>4196.0</td>\n",
              "      <td>267.0</td>\n",
              "      <td>1.0</td>\n",
              "      <td>0</td>\n",
              "      <td>0</td>\n",
              "      <td>...</td>\n",
              "      <td>0</td>\n",
              "      <td>0</td>\n",
              "      <td>0</td>\n",
              "      <td>0</td>\n",
              "      <td>0</td>\n",
              "      <td>1</td>\n",
              "      <td>0</td>\n",
              "      <td>0</td>\n",
              "      <td>0</td>\n",
              "      <td>1</td>\n",
              "    </tr>\n",
              "  </tbody>\n",
              "</table>\n",
              "<p>5 rows × 26 columns</p>\n",
              "</div>"
            ],
            "text/plain": [
              "   Gender  Married  Education  Self_Employed  ApplicantIncome  \\\n",
              "1       0        0          0              1             4583   \n",
              "2       0        0          0              0             3000   \n",
              "3       0        0          1              1             2583   \n",
              "4       0        1          0              1             6000   \n",
              "5       0        0          0              0             5417   \n",
              "\n",
              "   CoapplicantIncome  LoanAmount  Credit_History  Loan_Status  0  ...  7.0  \\\n",
              "1             1508.0       128.0             1.0            1  0  ...    0   \n",
              "2                0.0        66.0             1.0            0  1  ...    0   \n",
              "3             2358.0       120.0             1.0            0  1  ...    0   \n",
              "4                0.0       141.0             1.0            0  1  ...    0   \n",
              "5             4196.0       267.0             1.0            0  0  ...    0   \n",
              "\n",
              "   10.0  15.0  20.0  25.0  30.0  40.0  Rural  Semiurban  Urban  \n",
              "1     0     0     0     0     1     0      1          0      0  \n",
              "2     0     0     0     0     1     0      0          0      1  \n",
              "3     0     0     0     0     1     0      0          0      1  \n",
              "4     0     0     0     0     1     0      0          0      1  \n",
              "5     0     0     0     0     1     0      0          0      1  \n",
              "\n",
              "[5 rows x 26 columns]"
            ]
          },
          "metadata": {
            "tags": []
          },
          "execution_count": 278
        }
      ]
    },
    {
      "cell_type": "code",
      "metadata": {
        "id": "SJykQYrhtSbx",
        "colab_type": "code",
        "colab": {},
        "outputId": "ed7e0a3a-6315-4fd4-f4d7-f79ae40d85a3"
      },
      "source": [
        "df.info()"
      ],
      "execution_count": null,
      "outputs": [
        {
          "output_type": "stream",
          "text": [
            "<class 'pandas.core.frame.DataFrame'>\n",
            "Int64Index: 495 entries, 1 to 613\n",
            "Data columns (total 26 columns):\n",
            "Gender               495 non-null int64\n",
            "Married              495 non-null int64\n",
            "Education            495 non-null int64\n",
            "Self_Employed        495 non-null int64\n",
            "ApplicantIncome      495 non-null int64\n",
            "CoapplicantIncome    495 non-null float64\n",
            "LoanAmount           495 non-null float64\n",
            "Credit_History       495 non-null float64\n",
            "Loan_Status          495 non-null int64\n",
            "0                    495 non-null uint8\n",
            "1                    495 non-null uint8\n",
            "2                    495 non-null uint8\n",
            "3+                   495 non-null uint8\n",
            "1.0                  495 non-null uint8\n",
            "3.0                  495 non-null uint8\n",
            "5.0                  495 non-null uint8\n",
            "7.0                  495 non-null uint8\n",
            "10.0                 495 non-null uint8\n",
            "15.0                 495 non-null uint8\n",
            "20.0                 495 non-null uint8\n",
            "25.0                 495 non-null uint8\n",
            "30.0                 495 non-null uint8\n",
            "40.0                 495 non-null uint8\n",
            "Rural                495 non-null uint8\n",
            "Semiurban            495 non-null uint8\n",
            "Urban                495 non-null uint8\n",
            "dtypes: float64(3), int64(6), uint8(17)\n",
            "memory usage: 46.9 KB\n"
          ],
          "name": "stdout"
        }
      ]
    },
    {
      "cell_type": "markdown",
      "metadata": {
        "id": "sIrgGoh3tSb0",
        "colab_type": "text"
      },
      "source": [
        "# Modelling"
      ]
    },
    {
      "cell_type": "code",
      "metadata": {
        "id": "t8W8m27ftSb1",
        "colab_type": "code",
        "colab": {}
      },
      "source": [
        "from sklearn import preprocessing\n",
        "from sklearn import model_selection\n",
        "from sklearn.linear_model import LogisticRegression\n",
        "from sklearn.tree import DecisionTreeClassifier\n",
        "from sklearn.ensemble import RandomForestClassifier\n",
        "from sklearn.metrics import confusion_matrix,accuracy_score,classification_report"
      ],
      "execution_count": null,
      "outputs": []
    },
    {
      "cell_type": "code",
      "metadata": {
        "id": "jw-ilyrctSb4",
        "colab_type": "code",
        "colab": {}
      },
      "source": [
        "df[['ApplicantIncome', 'CoapplicantIncome' ,'LoanAmount']] = Standardisation.fit_transform(dff[['ApplicantIncome', 'CoapplicantIncome' ,'LoanAmount']])"
      ],
      "execution_count": null,
      "outputs": []
    },
    {
      "cell_type": "code",
      "metadata": {
        "id": "lBy4BlG_tSb_",
        "colab_type": "code",
        "colab": {},
        "outputId": "525072db-28c4-4e88-c469-46c9873c0c57"
      },
      "source": [
        "df.head()"
      ],
      "execution_count": null,
      "outputs": [
        {
          "output_type": "execute_result",
          "data": {
            "text/html": [
              "<div>\n",
              "<style scoped>\n",
              "    .dataframe tbody tr th:only-of-type {\n",
              "        vertical-align: middle;\n",
              "    }\n",
              "\n",
              "    .dataframe tbody tr th {\n",
              "        vertical-align: top;\n",
              "    }\n",
              "\n",
              "    .dataframe thead th {\n",
              "        text-align: right;\n",
              "    }\n",
              "</style>\n",
              "<table border=\"1\" class=\"dataframe\">\n",
              "  <thead>\n",
              "    <tr style=\"text-align: right;\">\n",
              "      <th></th>\n",
              "      <th>Gender</th>\n",
              "      <th>Married</th>\n",
              "      <th>Education</th>\n",
              "      <th>Self_Employed</th>\n",
              "      <th>ApplicantIncome</th>\n",
              "      <th>CoapplicantIncome</th>\n",
              "      <th>LoanAmount</th>\n",
              "      <th>Credit_History</th>\n",
              "      <th>Loan_Status</th>\n",
              "      <th>0</th>\n",
              "      <th>...</th>\n",
              "      <th>7.0</th>\n",
              "      <th>10.0</th>\n",
              "      <th>15.0</th>\n",
              "      <th>20.0</th>\n",
              "      <th>25.0</th>\n",
              "      <th>30.0</th>\n",
              "      <th>40.0</th>\n",
              "      <th>Rural</th>\n",
              "      <th>Semiurban</th>\n",
              "      <th>Urban</th>\n",
              "    </tr>\n",
              "  </thead>\n",
              "  <tbody>\n",
              "    <tr>\n",
              "      <td>1</td>\n",
              "      <td>0</td>\n",
              "      <td>0</td>\n",
              "      <td>0</td>\n",
              "      <td>1</td>\n",
              "      <td>0.580707</td>\n",
              "      <td>-0.059731</td>\n",
              "      <td>0.026080</td>\n",
              "      <td>1.0</td>\n",
              "      <td>1</td>\n",
              "      <td>0</td>\n",
              "      <td>...</td>\n",
              "      <td>0</td>\n",
              "      <td>0</td>\n",
              "      <td>0</td>\n",
              "      <td>0</td>\n",
              "      <td>0</td>\n",
              "      <td>1</td>\n",
              "      <td>0</td>\n",
              "      <td>1</td>\n",
              "      <td>0</td>\n",
              "      <td>0</td>\n",
              "    </tr>\n",
              "    <tr>\n",
              "      <td>2</td>\n",
              "      <td>0</td>\n",
              "      <td>0</td>\n",
              "      <td>0</td>\n",
              "      <td>0</td>\n",
              "      <td>-0.578814</td>\n",
              "      <td>-0.658963</td>\n",
              "      <td>-1.182978</td>\n",
              "      <td>1.0</td>\n",
              "      <td>0</td>\n",
              "      <td>1</td>\n",
              "      <td>...</td>\n",
              "      <td>0</td>\n",
              "      <td>0</td>\n",
              "      <td>0</td>\n",
              "      <td>0</td>\n",
              "      <td>0</td>\n",
              "      <td>1</td>\n",
              "      <td>0</td>\n",
              "      <td>0</td>\n",
              "      <td>0</td>\n",
              "      <td>1</td>\n",
              "    </tr>\n",
              "    <tr>\n",
              "      <td>3</td>\n",
              "      <td>0</td>\n",
              "      <td>0</td>\n",
              "      <td>1</td>\n",
              "      <td>1</td>\n",
              "      <td>-0.884259</td>\n",
              "      <td>0.278033</td>\n",
              "      <td>-0.129927</td>\n",
              "      <td>1.0</td>\n",
              "      <td>0</td>\n",
              "      <td>1</td>\n",
              "      <td>...</td>\n",
              "      <td>0</td>\n",
              "      <td>0</td>\n",
              "      <td>0</td>\n",
              "      <td>0</td>\n",
              "      <td>0</td>\n",
              "      <td>1</td>\n",
              "      <td>0</td>\n",
              "      <td>0</td>\n",
              "      <td>0</td>\n",
              "      <td>1</td>\n",
              "    </tr>\n",
              "    <tr>\n",
              "      <td>4</td>\n",
              "      <td>0</td>\n",
              "      <td>1</td>\n",
              "      <td>0</td>\n",
              "      <td>1</td>\n",
              "      <td>1.618635</td>\n",
              "      <td>-0.658963</td>\n",
              "      <td>0.279592</td>\n",
              "      <td>1.0</td>\n",
              "      <td>0</td>\n",
              "      <td>1</td>\n",
              "      <td>...</td>\n",
              "      <td>0</td>\n",
              "      <td>0</td>\n",
              "      <td>0</td>\n",
              "      <td>0</td>\n",
              "      <td>0</td>\n",
              "      <td>1</td>\n",
              "      <td>0</td>\n",
              "      <td>0</td>\n",
              "      <td>0</td>\n",
              "      <td>1</td>\n",
              "    </tr>\n",
              "    <tr>\n",
              "      <td>5</td>\n",
              "      <td>0</td>\n",
              "      <td>0</td>\n",
              "      <td>0</td>\n",
              "      <td>0</td>\n",
              "      <td>1.191597</td>\n",
              "      <td>1.008398</td>\n",
              "      <td>2.736710</td>\n",
              "      <td>1.0</td>\n",
              "      <td>0</td>\n",
              "      <td>0</td>\n",
              "      <td>...</td>\n",
              "      <td>0</td>\n",
              "      <td>0</td>\n",
              "      <td>0</td>\n",
              "      <td>0</td>\n",
              "      <td>0</td>\n",
              "      <td>1</td>\n",
              "      <td>0</td>\n",
              "      <td>0</td>\n",
              "      <td>0</td>\n",
              "      <td>1</td>\n",
              "    </tr>\n",
              "  </tbody>\n",
              "</table>\n",
              "<p>5 rows × 26 columns</p>\n",
              "</div>"
            ],
            "text/plain": [
              "   Gender  Married  Education  Self_Employed  ApplicantIncome  \\\n",
              "1       0        0          0              1         0.580707   \n",
              "2       0        0          0              0        -0.578814   \n",
              "3       0        0          1              1        -0.884259   \n",
              "4       0        1          0              1         1.618635   \n",
              "5       0        0          0              0         1.191597   \n",
              "\n",
              "   CoapplicantIncome  LoanAmount  Credit_History  Loan_Status  0  ...  7.0  \\\n",
              "1          -0.059731    0.026080             1.0            1  0  ...    0   \n",
              "2          -0.658963   -1.182978             1.0            0  1  ...    0   \n",
              "3           0.278033   -0.129927             1.0            0  1  ...    0   \n",
              "4          -0.658963    0.279592             1.0            0  1  ...    0   \n",
              "5           1.008398    2.736710             1.0            0  0  ...    0   \n",
              "\n",
              "   10.0  15.0  20.0  25.0  30.0  40.0  Rural  Semiurban  Urban  \n",
              "1     0     0     0     0     1     0      1          0      0  \n",
              "2     0     0     0     0     1     0      0          0      1  \n",
              "3     0     0     0     0     1     0      0          0      1  \n",
              "4     0     0     0     0     1     0      0          0      1  \n",
              "5     0     0     0     0     1     0      0          0      1  \n",
              "\n",
              "[5 rows x 26 columns]"
            ]
          },
          "metadata": {
            "tags": []
          },
          "execution_count": 316
        }
      ]
    },
    {
      "cell_type": "code",
      "metadata": {
        "id": "mZSV-XnstScB",
        "colab_type": "code",
        "colab": {}
      },
      "source": [
        "y = df['Loan_Status']\n",
        "X = df.drop('Loan_Status',axis = 1)"
      ],
      "execution_count": null,
      "outputs": []
    },
    {
      "cell_type": "code",
      "metadata": {
        "id": "51665izOtScG",
        "colab_type": "code",
        "colab": {}
      },
      "source": [
        "X_train,X_test,y_train,y_test = model_selection.train_test_split(X,y)"
      ],
      "execution_count": null,
      "outputs": []
    },
    {
      "cell_type": "code",
      "metadata": {
        "id": "RHNmbdSKtScQ",
        "colab_type": "code",
        "colab": {},
        "outputId": "91ce21d7-ab3b-43cf-e335-01430a44b6bb"
      },
      "source": [
        "print(\"X_TRAIN {} , Y_TRAIN {} , X_TEST {} , Y_TEST {}\".format(X_train.shape,y_train.shape,X_test.shape,y_test.shape))"
      ],
      "execution_count": null,
      "outputs": [
        {
          "output_type": "stream",
          "text": [
            "X_TRAIN (371, 25) , Y_TRAIN (371,) , X_TEST (124, 25) , Y_TEST (124,)\n"
          ],
          "name": "stdout"
        }
      ]
    },
    {
      "cell_type": "markdown",
      "metadata": {
        "id": "p6PtEkuMtScU",
        "colab_type": "text"
      },
      "source": [
        "## Logistic Regression"
      ]
    },
    {
      "cell_type": "code",
      "metadata": {
        "id": "Hxp9j5HXtScU",
        "colab_type": "code",
        "colab": {},
        "outputId": "3fb7eb54-8e25-4b92-b675-0e5be302bdc4"
      },
      "source": [
        "logreg = LogisticRegression()\n",
        "\n",
        "logreg.fit(X_train,y_train)\n",
        "\n",
        "y_pred = logreg.predict(X_test)\n",
        "\n",
        "\n",
        "print(confusion_matrix(y_test , y_pred))\n",
        "print(accuracy_score(y_test , y_pred))"
      ],
      "execution_count": null,
      "outputs": [
        {
          "output_type": "stream",
          "text": [
            "[[84  1]\n",
            " [16 23]]\n",
            "0.8629032258064516\n"
          ],
          "name": "stdout"
        },
        {
          "output_type": "stream",
          "text": [
            "D:\\Anaconda3\\lib\\site-packages\\sklearn\\linear_model\\logistic.py:432: FutureWarning: Default solver will be changed to 'lbfgs' in 0.22. Specify a solver to silence this warning.\n",
            "  FutureWarning)\n"
          ],
          "name": "stderr"
        }
      ]
    },
    {
      "cell_type": "markdown",
      "metadata": {
        "id": "WqLAwbnatScX",
        "colab_type": "text"
      },
      "source": [
        "## Decision Tree"
      ]
    },
    {
      "cell_type": "code",
      "metadata": {
        "id": "IxGEpcaLtScX",
        "colab_type": "code",
        "colab": {},
        "outputId": "c2824230-a1b2-44f6-d0df-a9f9c1446700"
      },
      "source": [
        "clf = DecisionTreeClassifier()\n",
        "\n",
        "clf.fit(X_train,y_train)\n",
        "\n",
        "y_pred = clf.predict(X_test)\n",
        "\n",
        "print(accuracy_score(y_test , y_pred))\n",
        "print(confusion_matrix(y_test , y_pred))"
      ],
      "execution_count": null,
      "outputs": [
        {
          "output_type": "stream",
          "text": [
            "0.7903225806451613\n",
            "[[68 17]\n",
            " [ 9 30]]\n"
          ],
          "name": "stdout"
        }
      ]
    },
    {
      "cell_type": "markdown",
      "metadata": {
        "id": "MFmqJOEdtSce",
        "colab_type": "text"
      },
      "source": [
        "## RandomForest"
      ]
    },
    {
      "cell_type": "code",
      "metadata": {
        "id": "ELr0R9PKtScf",
        "colab_type": "code",
        "colab": {},
        "outputId": "eb72252b-3564-43a9-ab5f-dca2686c1e24"
      },
      "source": [
        "clf = RandomForestClassifier(n_estimators=100)\n",
        "\n",
        "clf.fit(X_train,y_train)\n",
        "\n",
        "y_pred = clf.predict(X_test)\n",
        "\n",
        "print(accuracy_score(y_test , y_pred))\n",
        "print(confusion_matrix(y_test , y_pred))"
      ],
      "execution_count": null,
      "outputs": [
        {
          "output_type": "stream",
          "text": [
            "0.8548387096774194\n",
            "[[82  3]\n",
            " [15 24]]\n"
          ],
          "name": "stdout"
        }
      ]
    },
    {
      "cell_type": "markdown",
      "metadata": {
        "id": "bYNtu6dstScj",
        "colab_type": "text"
      },
      "source": [
        "Logistic Regression Helped us to achieve the best Classification"
      ]
    },
    {
      "cell_type": "code",
      "metadata": {
        "id": "Yxx8qsIqtScj",
        "colab_type": "code",
        "colab": {}
      },
      "source": [
        ""
      ],
      "execution_count": null,
      "outputs": []
    }
  ]
}